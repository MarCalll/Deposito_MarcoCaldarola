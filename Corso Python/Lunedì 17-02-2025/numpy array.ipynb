{
 "cells": [
  {
   "cell_type": "code",
   "execution_count": 11,
   "id": "25fab411-b503-49f4-9b6b-1db11b174720",
   "metadata": {},
   "outputs": [
    {
     "data": {
      "text/plain": [
       "8"
      ]
     },
     "execution_count": 11,
     "metadata": {},
     "output_type": "execute_result"
    }
   ],
   "source": [
    "x=4\n",
    "y=4\n",
    "\n",
    "x+y"
   ]
  },
  {
   "cell_type": "code",
   "execution_count": 3,
   "id": "e7fb09e5-f5bd-46cd-87a9-950f97603334",
   "metadata": {},
   "outputs": [],
   "source": [
    "import numpy as np"
   ]
  },
  {
   "cell_type": "code",
   "execution_count": 5,
   "id": "f93795ea-ee70-4acd-af72-5b2f8e0b323d",
   "metadata": {},
   "outputs": [
    {
     "data": {
      "text/plain": [
       "array([1, 2, 3, 4, 5])"
      ]
     },
     "execution_count": 5,
     "metadata": {},
     "output_type": "execute_result"
    }
   ],
   "source": [
    "# Creazione di un array unidimensionale\n",
    "arr = np.array([1, 2, 3, 4, 5])\n",
    "\n",
    "# Creazione di un array bidimensionale\n",
    "arr2d = np.array([[1, 2, 3], [4, 5, 6]])\n",
    "\n",
    "arr"
   ]
  },
  {
   "cell_type": "code",
   "execution_count": 13,
   "id": "6a0798e4-3260-4edb-8bc7-015f496f5a22",
   "metadata": {},
   "outputs": [
    {
     "data": {
      "text/plain": [
       "array([[1, 2, 3],\n",
       "       [4, 5, 6]])"
      ]
     },
     "execution_count": 13,
     "metadata": {},
     "output_type": "execute_result"
    }
   ],
   "source": [
    "arr2d"
   ]
  },
  {
   "cell_type": "code",
   "execution_count": 59,
   "id": "4722917e-2ac2-4396-81c7-2df50c9948f7",
   "metadata": {},
   "outputs": [
    {
     "name": "stdout",
     "output_type": "stream",
     "text": [
      "Forma dell'array: (5,)\n",
      "Dimensioni dell'array: 1\n",
      "Tipo di dati: int32\n",
      "Numero di elementi: 5\n",
      "Somma degli elementi: 15\n",
      "Media degli elementi: 3.0\n",
      "Valore massimo: 5\n",
      "Indice del valore massimo: 4\n"
     ]
    }
   ],
   "source": [
    "# Creazione di un array\n",
    "arr = np.array([1, 2, 3, 4, 5])\n",
    "\n",
    "# Utilizzo di alcuni metodi\n",
    "print(\"Forma dell'array:\", arr.shape) # Output: (5,)\n",
    "print(\"Dimensioni dell'array:\", arr.ndim) # Output: 1\n",
    "print(\"Tipo di dati:\", arr.dtype) # Output: int64 (varia a seconda della piattaforma)\n",
    "print(\"Numero di elementi:\", arr.size) # Output: 5\n",
    "print(\"Somma degli elementi:\", arr.sum()) # Output: 15\n",
    "print(\"Media degli elementi:\", arr.mean()) # Output: 3.0\n",
    "print(\"Valore massimo:\", arr.max()) # Output: 5\n",
    "print(\"Indice del valore massimo:\", arr.argmax()) # Output: 4"
   ]
  },
  {
   "cell_type": "code",
   "execution_count": 103,
   "id": "5cc4082f-f74f-4960-a7f2-b18fb60fbc96",
   "metadata": {},
   "outputs": [
    {
     "name": "stdout",
     "output_type": "stream",
     "text": [
      "[10 11 12 13 14 15 16 17 18 19 20 21 22 23 24 25 26 27 28 29 30 31 32 33\n",
      " 34 35 36 37 38 39 40 41 42 43 44 45 46 47 48 49 50 51 52 53 54 55 56 57\n",
      " 58 59 60 61 62 63 64 65 66 67 68 69]\n",
      "int32\n",
      "float64\n",
      "(60,)\n",
      "[[[10. 11. 12. 13. 14.]\n",
      "  [15. 16. 17. 18. 19.]\n",
      "  [20. 21. 22. 23. 24.]\n",
      "  [25. 26. 27. 28. 29.]]\n",
      "\n",
      " [[30. 31. 32. 33. 34.]\n",
      "  [35. 36. 37. 38. 39.]\n",
      "  [40. 41. 42. 43. 44.]\n",
      "  [45. 46. 47. 48. 49.]]\n",
      "\n",
      " [[50. 51. 52. 53. 54.]\n",
      "  [55. 56. 57. 58. 59.]\n",
      "  [60. 61. 62. 63. 64.]\n",
      "  [65. 66. 67. 68. 69.]]]\n",
      "3\n"
     ]
    }
   ],
   "source": [
    "es1 = np.arange(10,70)\n",
    "print(es1)\n",
    "print(es1.dtype)\n",
    "es1_cambiato = es1.astype('float64') \n",
    "print(es1_cambiato.dtype)\n",
    "print(es1_cambiato.shape)\n",
    "es1_tridimensionale = es1_cambiato.reshape(3,4,5)\n",
    "print(es1_tridimensionale)\n",
    "print(es1_tridimensionale.ndim)"
   ]
  },
  {
   "cell_type": "code",
   "execution_count": 107,
   "id": "8deaba59-53a4-4600-bbb5-23725c1049bc",
   "metadata": {},
   "outputs": [
    {
     "name": "stdout",
     "output_type": "stream",
     "text": [
      "[ 7  8  9 10 11 12 13 14]\n",
      "7\n",
      "[7 8]\n",
      "[10 11 12 13 14]\n"
     ]
    }
   ],
   "source": [
    "arr = np.arange(7,15) # 1,2,3,4,5\n",
    "\n",
    "print(arr)\n",
    "\n",
    "# Indexing\n",
    "print(arr[0])\n",
    "\n",
    "# Slicing\n",
    "print(arr[:2])\n",
    "\n",
    "# Boolean Indexing\n",
    "print(arr[arr > 9])"
   ]
  },
  {
   "cell_type": "code",
   "execution_count": 109,
   "id": "98d879c6-0676-4ee9-aecd-7c06676dc621",
   "metadata": {},
   "outputs": [
    {
     "name": "stdout",
     "output_type": "stream",
     "text": [
      "[[ 5  6  7  8]\n",
      " [ 9 10 11 12]]\n",
      "[[ 2  3]\n",
      " [ 6  7]\n",
      " [10 11]]\n",
      "[[ 6  7]\n",
      " [10 11]]\n"
     ]
    }
   ],
   "source": [
    "arr_2d = np.array([[1, 2, 3, 4],\n",
    "[5, 6, 7, 8],\n",
    "[9, 10, 11, 12]])\n",
    "# Slicing sulle righe\n",
    "print(arr_2d[1:3]) # Output: [[ 5 6 7 8]\n",
    "# [ 9 10 11 12]]\n",
    "# Slicing sulle colonne\n",
    "print(arr_2d[:, 1:3]) # Output: [[ 2 3]\n",
    "# [ 6 7]\n",
    "# [10 11]]\n",
    "# Slicing misto\n",
    "print(arr_2d[1:, 1:3]) # Output: [[ 6 7]\n",
    "# [10 11]]"
   ]
  },
  {
   "cell_type": "code",
   "execution_count": 111,
   "id": "64439642-4403-4dc3-b564-7f975fb51d83",
   "metadata": {},
   "outputs": [
    {
     "name": "stdout",
     "output_type": "stream",
     "text": [
      "[2 3 4 5 6]\n",
      "[1 3 5 7]\n",
      "[0 1 2 3 4]\n",
      "[5 6 7 8 9]\n",
      "[5 6 7 8 9]\n",
      "[0 1 2 3 4]\n"
     ]
    }
   ],
   "source": [
    "    import numpy as np\n",
    "    arr = np.array([0, 1, 2, 3, 4, 5, 6, 7, 8, 9])\n",
    "\n",
    "    # Slicing di base\n",
    "    print(arr[2:7])  # Output: [2 3 4 5 6]\n",
    "\n",
    "    # Slicing con passo\n",
    "    print(arr[1:8:2])  # Output: [1 3 5 7]\n",
    "\n",
    "    # Omettere start e stop\n",
    "    print(arr[:5])  # Output: [0 1 2 3 4]\n",
    "    print(arr[5:])  # Output: [5 6 7 8 9]\n",
    "\n",
    "    # Utilizzare indici negativi\n",
    "    print(arr[-5:])  # Output: [5 6 7 8 9]\n",
    "    print(arr[:-5])  # Output: [0 1 2 3 4]"
   ]
  },
  {
   "cell_type": "code",
   "execution_count": 113,
   "id": "007b9e45-af13-4e53-87cb-8351e107b590",
   "metadata": {},
   "outputs": [
    {
     "name": "stdout",
     "output_type": "stream",
     "text": [
      "[20 40]\n",
      "[10 30 50]\n"
     ]
    }
   ],
   "source": [
    "    arr = np.array([10, 20, 30, 40, 50])\n",
    "\n",
    "    # Utilizzo di un array di indici\n",
    "    indices = np.array([1, 3])\n",
    "    print(arr[indices])  # Output: [20 40]\n",
    "\n",
    "    # Utilizzo di una lista di indici\n",
    "    indices = [0, 2, 4]\n",
    "    print(arr[indices])  # Output: [10 30 50]"
   ]
  },
  {
   "cell_type": "code",
   "execution_count": 235,
   "id": "d827935b-1fbb-4aa3-8701-8befe6cda478",
   "metadata": {},
   "outputs": [
    {
     "name": "stdout",
     "output_type": "stream",
     "text": [
      "[11 15 32 45 31 48 46 25 29 11 49 27 28 41 34 36 48 19 19 15]\n",
      "[11 15 32 45 31 48 46 25 29 11]\n",
      "[36 48 19 19 15]\n",
      "[11 15 32 45 99 99 99 99 99 99 49 27 28 41 34 36 48 19 19 15]\n"
     ]
    }
   ],
   "source": [
    "# Esercizio su NumPy Slicing\n",
    "\n",
    "# Consegna:\n",
    "# Crea un array NumPy 1D di 20 numeri interi casuali compresi tra 10 e 50.\n",
    "# Utilizza lo slicing per estrarre i primi 10 elementi dell'array.\n",
    "# Utilizza lo slicing per estrarre gli ultimi 5 elementi dell'array.\n",
    "# Utilizza lo slicing per estrarre gli elementi dall'indice 5 all'indice 15 (escluso).\n",
    "# Utilizza lo slicing per estrarre ogni terzo elemento dell'array.\n",
    "# Modifica, tramite slicing, gli elementi dall'indice 5 all'indice 10 (escluso) assegnando loro il valore 99.\n",
    "# Stampa l'array originale e tutti i sottoarray ottenuti tramite slicing.\n",
    "\n",
    "# Obiettivo:\n",
    "# Esercitarsi nell'utilizzo dello slicing di NumPy per estrarre e modificare sottoarray specifici da un array più grande.\n",
    "\n",
    "es1 = np.random.randint(10, 51, 20)\n",
    "print(es1)\n",
    "es2 = es1[:10]\n",
    "print(es2)\n",
    "es2 = es1[-5:]\n",
    "print(es2)\n",
    "# es3 = np.random.randint(10, 51, 20)\n",
    "es1[4:10] = 99\n",
    "print(es1)"
   ]
  },
  {
   "cell_type": "code",
   "execution_count": 383,
   "id": "9e6783bc-6981-4958-8fe7-98ee21b5ee3d",
   "metadata": {},
   "outputs": [
    {
     "name": "stdout",
     "output_type": "stream",
     "text": [
      "[[[20  7 61 65 51 48]\n",
      "  [92 80  6 69 93 54]\n",
      "  [10 79 44 57  9 53]\n",
      "  [70 99 47 12 74 51]\n",
      "  [37  3 17 16 38 94]\n",
      "  [ 8 63 13 80 99 89]]\n",
      "\n",
      " [[83 88 44 71 83  1]\n",
      "  [37 54 69 19 88 50]\n",
      "  [55 66 43 65 59 49]\n",
      "  [42 76 47 47 97 98]\n",
      "  [23 59 41 74 26 30]\n",
      "  [79 90 36 72 66 70]]]\n",
      "\n",
      " \n",
      " \n",
      " [[[80  6 69 93]\n",
      "  [79 44 57  9]\n",
      "  [99 47 12 74]\n",
      "  [ 3 17 16 38]]\n",
      "\n",
      " [[54 69 19 88]\n",
      "  [66 43 65 59]\n",
      "  [76 47 47 97]\n",
      "  [59 41 74 26]]]\n",
      "\n",
      " \n",
      " \n",
      " [[[ 3 17 16 38]\n",
      "  [99 47 12 74]\n",
      "  [79 44 57  9]\n",
      "  [80  6 69 93]]\n",
      "\n",
      " [[59 41 74 26]\n",
      "  [76 47 47 97]\n",
      "  [66 43 65 59]\n",
      "  [54 69 19 88]]]\n",
      "\n",
      " \n",
      " \n",
      " [[[ 3 47]\n",
      "  [57 93]\n",
      "  [59 47]\n",
      "  [65 88]]]\n",
      "\n",
      " \n",
      " \n",
      " [[[-1 17 16 38]\n",
      "  [-1 47 -1 74]\n",
      "  [79 44 -1 -1]\n",
      "  [80 -1 -1 -1]]\n",
      "\n",
      " [[59 41 74 26]\n",
      "  [76 47 47 97]\n",
      "  [-1 43 65 59]\n",
      "  [-1 -1 19 88]]]\n"
     ]
    }
   ],
   "source": [
    "# Consegna:\n",
    "# Crea una matrice NumPy 2D di dimensioni 6x6 contenente numeri interi casuali compresi tra 1 e 100.\n",
    "# Estrai la sotto-matrice centrale 4x4 dalla matrice originale.\n",
    "# Inverti le righe della matrice estratta (cioè, la prima riga diventa l'ultima, la seconda diventa la penultima, e così via).\n",
    "# Estrai la diagonale principale della matrice invertita e crea un array 1D contenente questi elementi.\n",
    "# Sostituisci tutti gli elementi della matrice invertita che sono multipli di 3 con il valore -1.\n",
    "# Stampa la matrice originale, la sotto-matrice centrale estratta, la matrice invertita, la diagonale principale e la matrice invertita modificata.\n",
    "\n",
    "# Obiettivo:\n",
    "# Esercitarsi nell'utilizzo dello slicing di NumPy per estrarre, modificare e manipolare sotto-matrici e array, applicando operazioni avanzate come\n",
    "# l'inversione delle righe e la sostituzione condizionale degli elementi.\n",
    "\n",
    "num_casuali = np.random.randint(1, 100, 72)\n",
    "num_2D = num_casuali.reshape(2,6,6)\n",
    "print(num_2D)\n",
    "sotto_matrice_centrale = num_2D[:, 1:5, 1:5]\n",
    "print(\"\\n\",\"\\n\",\"\\n\", sotto_matrice_centrale)\n",
    "sotto_matrice_centrale_invertita = sotto_matrice_centrale[:, ::-1, :]\n",
    "print(\"\\n\",\"\\n\",\"\\n\", sotto_matrice_centrale_invertita)\n",
    "diagonale = np.array([np.diagonal(piano) for piano in sotto_matrice_centrale_invertita])\n",
    "diag_1D = diagonale.reshape(1,4,2)\n",
    "print(\"\\n\",\"\\n\",\"\\n\", diag_1D)\n",
    "sotto_matrice_centrale_invertita[sotto_matrice_centrale_invertita % 3 == 0] = -1\n",
    "print(\"\\n\",\"\\n\",\"\\n\", sotto_matrice_centrale_invertita)\n",
    "\n",
    "\n",
    "\n",
    "\n"
   ]
  },
  {
   "cell_type": "code",
   "execution_count": 9,
   "id": "70f68393-1945-425a-a56f-3cf783bda886",
   "metadata": {},
   "outputs": [
    {
     "name": "stdout",
     "output_type": "stream",
     "text": [
      "Sum: 15\n",
      "Mean: 3.0\n",
      "Standard Deviation: 1.4142135623730951\n"
     ]
    }
   ],
   "source": [
    "arr = np.array([1, 2, 3, 4, 5])\n",
    "\n",
    "sum_value = np.sum(arr)\n",
    "mean_value = np.mean(arr)\n",
    "std_value = np.std(arr)\n",
    "\n",
    "print(\"Sum:\", sum_value)    # Output: Sum: 15\n",
    "print(\"Mean:\", mean_value)  # Output: Mean: 3.0\n",
    "print(\"Standard Deviation:\", std_value)  \n",
    "# Output: Standard Deviation: 1.4142135623730951"
   ]
  }
 ],
 "metadata": {
  "kernelspec": {
   "display_name": "Python [conda env:base] *",
   "language": "python",
   "name": "conda-base-py"
  },
  "language_info": {
   "codemirror_mode": {
    "name": "ipython",
    "version": 3
   },
   "file_extension": ".py",
   "mimetype": "text/x-python",
   "name": "python",
   "nbconvert_exporter": "python",
   "pygments_lexer": "ipython3",
   "version": "3.12.7"
  }
 },
 "nbformat": 4,
 "nbformat_minor": 5
}
