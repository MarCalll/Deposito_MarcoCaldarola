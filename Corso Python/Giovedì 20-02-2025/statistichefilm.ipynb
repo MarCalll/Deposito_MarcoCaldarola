{
 "cells": [
  {
   "cell_type": "code",
   "execution_count": null,
   "id": "6cb68f7a-b283-464a-822c-efe099fb2730",
   "metadata": {},
   "outputs": [],
   "source": [
    "import pandas as pd\n",
    "import numpy as np\n",
    "\n",
    "file_path = 'imdb_top_1000.csv'\n",
    "df = pd.read_csv(file_path)\n",
    "\n",
    "# Mostrare le prime righe del dataset\n",
    "df.head()"
   ]
  },
  {
   "cell_type": "code",
   "execution_count": null,
   "id": "7d496279-c5d9-4bb3-bf74-12509b3bcfed",
   "metadata": {},
   "outputs": [],
   "source": [
    "# Controllare i valori mancanti\n",
    "missing_values = df.isnull().sum() #valori booleani e somma di questi ultimi\n",
    "\n",
    "df.isnull().sum()\n"
   ]
  },
  {
   "cell_type": "code",
   "execution_count": null,
   "id": "6d1d2fe3-3831-4175-9c09-90dd26095125",
   "metadata": {},
   "outputs": [],
   "source": [
    "# rimuovo la colonna 'Certificate' dal DataFrame\n",
    "df.drop(columns=['Certificate'], inplace=True)\n",
    "\n",
    "df.head()\n"
   ]
  },
  {
   "cell_type": "code",
   "execution_count": null,
   "id": "6dc10674-e2fd-420a-b226-8b63bed99237",
   "metadata": {},
   "outputs": [],
   "source": [
    "meta_score_mean = df['Meta_score'].mean()\n",
    "df.head()"
   ]
  },
  {
   "cell_type": "code",
   "execution_count": null,
   "id": "ea6cce8c-a0ea-4ab7-9b1e-af109840e5bf",
   "metadata": {},
   "outputs": [],
   "source": [
    "df['Gross'] = df['Gross'].str.replace(',', '', regex=True).astype(float) #pulisce la colonna gross, sostituzione delle virgole con una stringa vuota, conversione stringa a numerico float\n",
    "gross_mean = df['Gross'].mean()\n",
    "\n",
    "gross_mean\n"
   ]
  },
  {
   "cell_type": "code",
   "execution_count": null,
   "id": "1467508f-b508-4d7f-8b96-a6ef0d3e9f70",
   "metadata": {},
   "outputs": [],
   "source": [
    "df['Released_Year'] = pd.to_numeric(df['Released_Year'], errors='coerce').astype('Int64') #conversioni in valori numerici di released year, se ci sono valori non numerici vengono trasmormati in NaN\n",
    "df.head()"
   ]
  },
  {
   "cell_type": "code",
   "execution_count": null,
   "id": "b1ea37f1-c676-4e85-9bbb-35fa138bb3b7",
   "metadata": {},
   "outputs": [],
   "source": [
    "df[\"Runtime\"] = df[\"Runtime\"].astype(str).str.replace(\" min\", \"\").astype(float).astype('Int64') #cinversione in string, rimozione min, conversione colonna in numeri interi\n",
    "\n",
    "df.describe()\n"
   ]
  },
  {
   "cell_type": "code",
   "execution_count": null,
   "id": "f03d9a1e-968e-4d1e-9fe6-9401a0ec92bd",
   "metadata": {},
   "outputs": [],
   "source": []
  },
  {
   "cell_type": "code",
   "execution_count": null,
   "id": "b337454d-a881-41d5-a6b7-4c4d486a5c41",
   "metadata": {},
   "outputs": [],
   "source": []
  },
  {
   "cell_type": "code",
   "execution_count": null,
   "id": "ab9268a5-16e9-4694-8a7e-0f8f53a46084",
   "metadata": {},
   "outputs": [],
   "source": []
  },
  {
   "cell_type": "code",
   "execution_count": null,
   "id": "879a0128-8830-4c1b-8729-6bd36a0d1708",
   "metadata": {},
   "outputs": [],
   "source": [
    "df[\"Gross\"] = df[\"Gross\"].astype(str).str.replace(\",\", \"\").astype(float) #conversione gross in string, rimovendo le virgole\n",
    "df.describe()"
   ]
  },
  {
   "cell_type": "code",
   "execution_count": null,
   "id": "c9431b6d-9cfe-4e57-af97-b33a95f5e1c6",
   "metadata": {},
   "outputs": [],
   "source": [
    "num_duplicati = df.duplicated().sum() #serie booleana e somma dei duplicati\n",
    "print(\"Numero di film duplicati:\", num_duplicati)\n",
    "film_duplicati = df[df.duplicated(keep=False)]\n",
    "print(\"Film duplicati:\")\n",
    "print(film_duplicati)"
   ]
  },
  {
   "cell_type": "code",
   "execution_count": null,
   "id": "f38c81d3-e6b1-44db-a698-4708d4ba879d",
   "metadata": {},
   "outputs": [],
   "source": [
    "registi_contati = df['Director'].value_counts() #conto il numero di film\n",
    "registi_multipli = registi_contati[registi_contati > 1] #registi che hanno fatto piu di un film\n",
    "num_registi_multipli = registi_multipli.count() #conto quanti sono i registi multipli\n",
    "num_registi_multipli"
   ]
  },
  {
   "cell_type": "code",
   "execution_count": null,
   "id": "3e113335-fdb6-407f-a46f-c99d1131bb77",
   "metadata": {},
   "outputs": [],
   "source": [
    "# calcolo la durata media dei film in minuti\n",
    "durata_media = df[\"Runtime\"].mean()\n",
    "durata_media\n",
    "\n"
   ]
  },
  {
   "cell_type": "code",
   "execution_count": null,
   "id": "8c93dd4a-453d-4ddf-9f7e-41ae49087da1",
   "metadata": {},
   "outputs": [],
   "source": [
    "#calcolo il voto medio IMDB di tutti i film\n",
    "voto_medio_imdb = df[\"IMDB_Rating\"].mean()\n",
    "voto_medio_imdb\n"
   ]
  },
  {
   "cell_type": "code",
   "execution_count": null,
   "id": "cef6ccbb-e0f9-4eb3-b383-485094253400",
   "metadata": {},
   "outputs": [],
   "source": [
    "# conto i film con un IMDB rating superiore a 8.5\n",
    "num_film_alti_voti = df[df[\"IMDB_Rating\"] > 8.5].shape[0]\n",
    "num_film_alti_voti\n"
   ]
  },
  {
   "cell_type": "code",
   "execution_count": null,
   "id": "76833cce-1647-4806-8e94-a4fb4c51a260",
   "metadata": {},
   "outputs": [],
   "source": [
    "film_rating_piu_alto = df[df[\"IMDB_Rating\"] == df[\"IMDB_Rating\"].max()]\n",
    "film_rating_piu_alto"
   ]
  },
  {
   "cell_type": "code",
   "execution_count": null,
   "id": "ec3fded8-1c45-4911-b7ce-aa3cebf5eb75",
   "metadata": {},
   "outputs": [],
   "source": [
    "film_rating_piu_basso = df[df[\"IMDB_Rating\"] == df[\"IMDB_Rating\"].min()]\n",
    "film_rating_piu_basso"
   ]
  },
  {
   "cell_type": "code",
   "execution_count": null,
   "id": "09cb1659-781e-412a-bada-80cd8c48baa9",
   "metadata": {},
   "outputs": [],
   "source": [
    "film_duplicati = df[df.duplicated(keep=False)] #false indica che tutte le copie di una riga devono essere considerate un duplicato\n",
    "if film_duplicati.empty:\n",
    "    print(\"Non ci sono film perfettamente duplicati nel dataset.\")\n",
    "else:\n",
    "    print(\"Film perfettamente duplicati trovati:\")\n",
    "    print(film_duplicati)"
   ]
  },
  {
   "cell_type": "code",
   "execution_count": null,
   "id": "66e59d12-da2c-48e0-88c4-4b6d11939b71",
   "metadata": {},
   "outputs": [],
   "source": [
    "df_ratingelevato = df.sort_values(by=\"IMDB_Rating\", ascending=False) #ordina il dataframe in base alla colonna, ordinamento decrescente\n",
    "top_10_film = df_ratingelevato.head(9)\n",
    "print(\"Top 10 film con il rating IMDB più alto:\")\n",
    "print(top_10_film[[\"Series_Title\", \"Released_Year\", \"IMDB_Rating\", \"Director\"]])\n"
   ]
  },
  {
   "cell_type": "code",
   "execution_count": null,
   "id": "81d5183c-4ba0-4e47-b6a4-2b8a40c15b76",
   "metadata": {},
   "outputs": [],
   "source": [
    "# ordino il dataFrame in base al numero di voti in ordine decrescente\n",
    "df_ordinato_voti = df.sort_values(by=\"No_of_Votes\", ascending=False)\n",
    "# selezionare i primi 10 film con il maggior numero di voti\n",
    "top_10_voti = df_ordinato_voti.head(10)\n",
    "print(\"Top 10 film con il maggior numero di voti:\")\n",
    "print(top_10_voti[[\"Series_Title\", \"Released_Year\", \"IMDB_Rating\", \"No_of_Votes\", \"Director\"]])\n"
   ]
  },
  {
   "cell_type": "code",
   "execution_count": null,
   "id": "1df60349-f258-42cd-8347-c1cf23f5910b",
   "metadata": {},
   "outputs": [],
   "source": [
    "# ordino il DataFrame in base al valore di incasso in ordine decrescente\n",
    "df_ordinato_gross = df.sort_values(by=\"Gross\", ascending=False)\n",
    "#seleziono i primi 10 film con il maggior incasso\n",
    "top_10_gross = df_ordinato_gross.head(10)\n",
    "\n",
    "print(\"Top 10 film con il maggior incasso:\")\n",
    "print(top_10_gross[[\"Series_Title\", \"Released_Year\", \"IMDB_Rating\", \"Gross\", \"Director\"]])\n"
   ]
  },
  {
   "cell_type": "code",
   "execution_count": null,
   "id": "3ceab990-0cf8-4e0d-8c9b-67334b1caa01",
   "metadata": {},
   "outputs": [],
   "source": [
    "# ordino il dataFrame per IMDB_Rating (dal più alto al più basso)\n",
    "df_ordinato_rating = df.sort_values(by=\"IMDB_Rating\", ascending=False)\n",
    "\n",
    "# ordino il dataFrame per No_of_Votes (dal più alto al più basso)\n",
    "df_ordinato_voti = df.sort_values(by=\"No_of_Votes\", ascending=False)\n",
    "\n",
    "# stampo i primi 10 film in entrambe le classifiche per confrontare\n",
    "print(\" Top 10 film per Rating IMDB:\")\n",
    "print(df_ordinato_rating.head(10)[[\"Series_Title\", \"IMDB_Rating\", \"No_of_Votes\"]])\n",
    "\n",
    "print(\"\\n Top 10 film per Numero di Voti:\")\n",
    "print(df_ordinato_voti.head(10)[[\"Series_Title\", \"IMDB_Rating\", \"No_of_Votes\"]])\n",
    "\n"
   ]
  },
  {
   "cell_type": "code",
   "execution_count": null,
   "id": "921960e7-22eb-4c3e-acbd-d08bbbbf3b6d",
   "metadata": {},
   "outputs": [],
   "source": [
    "# seleziono i titoli dei primi 10 film per entrambe le classifiche\n",
    "top_10_rating = set(df_ordinato_rating.head(10)[\"Series_Title\"])\n",
    "top_10_voti = set(df_ordinato_voti.head(10)[\"Series_Title\"])\n",
    "# identificare i film presenti in entrambe le liste\n",
    "film_comuni = top_10_rating.intersection(top_10_voti)\n",
    "film_comuni"
   ]
  },
  {
   "cell_type": "code",
   "execution_count": null,
   "id": "5a2de6c3-91c2-4e38-8a6c-4a1a2d42fb5e",
   "metadata": {},
   "outputs": [],
   "source": [
    "#creo fasce di rating (ogni 0.5 punti)\n",
    "df['RatingGroup'] = pd.cut(df['IMDB_Rating'], bins=[7.5, 8, 8.5, 9, 9.5, 10], right=False) #suddivisione della colonno numerica di rating in intervalli di 0.5\n",
    "\n",
    "#calcolo il numero medio di voti per ciascun gruppo di rating\n",
    "mean_votes_by_ratinggroup = df.groupby('RatingGroup')['No_of_Votes'].mean() #raggruppo i dati per fasce di rating\n",
    "print(\"Numero medio di voti per ogni fascia di rating IMDB:\")\n",
    "print(mean_votes_by_ratinggroup)\n"
   ]
  },
  {
   "cell_type": "code",
   "execution_count": null,
   "id": "d6a5dae8-1853-4504-a447-7d1203728c27",
   "metadata": {},
   "outputs": [],
   "source": [
    "genre_counts = df['Genre'].value_counts()\n",
    "\n",
    "print(\"Genere più frequente nel dataset:\")\n",
    "print(genre_counts.head(10))\n"
   ]
  },
  {
   "cell_type": "code",
   "execution_count": null,
   "id": "704d520a-14ef-4a25-b989-69821bd0e306",
   "metadata": {},
   "outputs": [],
   "source": [
    "mean_rating_by_genre = df.groupby('Genre')['IMDB_Rating'].mean() #raggruppo per genere e poi seleziono il rating per calcolare la media\n",
    "print(\"Rating medio per genere:\")\n",
    "print(mean_rating_by_genre)\n"
   ]
  },
  {
   "cell_type": "code",
   "execution_count": null,
   "id": "2306b3ea-e2bf-4124-b7f3-31e4b4106d48",
   "metadata": {},
   "outputs": [],
   "source": [
    "mean_Runtime_by_genre = df.groupby('Genre')['Runtime'].mean()\n",
    "print(\" Durata media dei film per ogni genere:\")\n",
    "print(mean_Runtime_by_genre)"
   ]
  },
  {
   "cell_type": "code",
   "execution_count": null,
   "id": "20da40b8-c9df-4d96-ab27-b4ae17169129",
   "metadata": {},
   "outputs": [],
   "source": [
    "mean_Gross_by_genre = df.groupby('Genre')['Gross'].mean()\n",
    "print(\" Media profitto per genere\")\n",
    "print(mean_Gross_by_genre)\n"
   ]
  },
  {
   "cell_type": "code",
   "execution_count": null,
   "id": "dbe916cc-eaba-4910-8898-081654eb2692",
   "metadata": {},
   "outputs": [],
   "source": [
    "films_per_year = df['Released_Year'].value_counts()\n",
    "most_frequent_year = films_per_year.idxmax() #indice è l'anno e il valore è il numero di film\n",
    "num_films = films_per_year.max() #valore massimo di film della serie\n",
    "print(f\"l'anno con il maggior numero di film nel dataset è il {most_frequent_year} con {num_films} film.\")\n"
   ]
  },
  {
   "cell_type": "code",
   "execution_count": null,
   "id": "2280537f-359f-47ae-925f-42b65ed8a5c1",
   "metadata": {},
   "outputs": [],
   "source": [
    "df['Decadegroup']= pd.cut(df['Released_Year'], bins=range(1920,2026,10), right=False) #suddivisione della colonno numerica di rating in intervalli di 0.5\n",
    "#calcolo il numero medio di voti per ciascun gruppo di rating\n",
    "mean_rating_by_decade = df.groupby('Decadegroup')['IMDB_Rating'].mean() #raggruppo i dati per fasce di rating\n",
    "print(\"Rating IMBD per decennio:\")\n",
    "print(mean_rating_by_decade)\n"
   ]
  },
  {
   "cell_type": "code",
   "execution_count": null,
   "id": "b14d533a-a538-401e-a08a-ddd764256018",
   "metadata": {},
   "outputs": [],
   "source": [
    "rating_piu_alto_decennio = df.groupby('Decadegroup')['IMDB_Rating'].idxmax()\n",
    "rating_piu_alto_decennio\n"
   ]
  },
  {
   "cell_type": "code",
   "execution_count": null,
   "id": "2beba060-f384-4e31-9f9f-e7dc783b372e",
   "metadata": {},
   "outputs": [],
   "source": [
    "df.loc[rating_piu_alto_decennio, [\"Series_Title\",\"Released_Year\",\"IMDB_Rating\"]]"
   ]
  },
  {
   "cell_type": "code",
   "execution_count": null,
   "id": "6a3ba7b6-2745-4817-a9ef-09792ebff515",
   "metadata": {},
   "outputs": [],
   "source": [
    "director_counts = df['Director'].value_counts() #conta quante volte appare ogni regista nel dataset\n",
    "\n",
    "print(\"Registi con il maggior numero di film nel dataset:\")\n",
    "print(director_counts.head(10)) "
   ]
  },
  {
   "cell_type": "code",
   "execution_count": null,
   "id": "316a2d65-faa6-47cc-a230-d36cac0df6e2",
   "metadata": {},
   "outputs": [],
   "source": [
    "rating_medio_regista= df.groupby('Director')['IMDB_Rating'].mean()\n",
    "rating_medio_regista"
   ]
  },
  {
   "cell_type": "code",
   "execution_count": null,
   "id": "8a1883fc-c376-463f-96fd-c557d27d8527",
   "metadata": {},
   "outputs": [],
   "source": [
    "conteggio_attori = pd.concat([df['Star1'],df['Star2'],df['Star3'],df['Star4']])\n",
    "conteggio_attori\n"
   ]
  },
  {
   "cell_type": "code",
   "execution_count": null,
   "id": "c8648526-f63c-4f1e-8fe9-7e99390e5bfe",
   "metadata": {},
   "outputs": [],
   "source": [
    "conta_tutti=conteggio_attori.value_counts()\n",
    "conta_tutti.head(9)"
   ]
  },
  {
   "cell_type": "code",
   "execution_count": null,
   "id": "d74d68b6-5945-420e-8ca3-b51484c71373",
   "metadata": {},
   "outputs": [],
   "source": []
  },
  {
   "cell_type": "code",
   "execution_count": null,
   "id": "9a56458a-ec68-4f4e-97e6-5142ec8187cc",
   "metadata": {},
   "outputs": [],
   "source": []
  },
  {
   "cell_type": "code",
   "execution_count": null,
   "id": "1c0f6a17-bf9d-45ff-96d9-e9167b23ae1b",
   "metadata": {},
   "outputs": [],
   "source": [
    "conteggio_attoriprova1 = df['Star1'].value_counts()\n",
    "conteggio_attoriprova2 = df['Star2'].value_counts()\n",
    "conteggio_attoriprova3 = df['Star3'].value_counts()\n",
    "conteggio_attoriprova4 = df['Star4'].value_counts()\n",
    "\n",
    "conteggio_totale_attori= (conteggio_attoriprova1\n",
    "                          .add(conteggio_attoriprova2, fill_value=0)\n",
    "                          .add(conteggio_attoriprova3, fill_value=0)\n",
    "                          .add(conteggio_attoriprova4, fill_value=0))\n",
    "conteggio_totale_attori.sort_values(ascending=False).head(9)"
   ]
  },
  {
   "cell_type": "code",
   "execution_count": null,
   "id": "d7a0c66b-b4c5-4a45-865f-5c55d2f960f9",
   "metadata": {},
   "outputs": [],
   "source": [
    "df['Scoregroup']= pd.cut(df['Meta_score'], bins=range(28,100,5), right=False) #suddivisione della colonno numerica di rating in intervalli di 0.5\n",
    "#calcolo il numero medio di voti per ciascun gruppo di rating\n",
    "count_score = df.groupby('Scoregroup')['Series_Title'].count() #raggruppo i film\n",
    "count_score"
   ]
  },
  {
   "cell_type": "code",
   "execution_count": null,
   "id": "078ffd11-dea6-4fad-8cce-45ad0401b1eb",
   "metadata": {},
   "outputs": [],
   "source": [
    "df.describe()"
   ]
  },
  {
   "cell_type": "code",
   "execution_count": null,
   "id": "f95560cb-be37-44a5-b449-b12720174318",
   "metadata": {},
   "outputs": [],
   "source": [
    "film_alto_rating = df[df['Meta_score'] >=90]\n",
    "attori = pd.concat([df['Star1'],df['Star2'],df['Star3'],df['Star4']]).value_counts()\n",
    "attori     \n"
   ]
  },
  {
   "cell_type": "code",
   "execution_count": null,
   "id": "d18e4b84-8b4d-4fd1-8c58-9729f43e59ec",
   "metadata": {},
   "outputs": [],
   "source": [
    "import seaborn as sns\n",
    "import matplotlib.pyplot as plt\n",
    "\n",
    "\n",
    "correlation_matrix = df.select_dtypes(include=[\"number\"]).corr()\n",
    "correlation_matrix\n",
    "plt.figure(figsize=(10,6))\n",
    "sns.heatmap(correlation_matrix, annot=True, cmap=\"coolwarm\", fmt=\".2f\", linewidths=0.5)\n",
    "plt.show()"
   ]
  },
  {
   "cell_type": "code",
   "execution_count": null,
   "id": "eb35ebd8-efa5-4226-b2a9-b9a176a5b3bd",
   "metadata": {},
   "outputs": [],
   "source": [
    "dfold = df[df[\"Released_Year\"]<1980]\n",
    "\n",
    "correlation_matrix = dfold.select_dtypes(include=[\"number\"]).corr()\n",
    "correlation_matrix\n",
    "plt.figure(figsize=(10,6))\n",
    "sns.heatmap(correlation_matrix, annot=True, cmap=\"coolwarm\", fmt=\".2f\", linewidths=0.5)\n",
    "plt.show()"
   ]
  },
  {
   "cell_type": "code",
   "execution_count": null,
   "id": "37561a93-14b2-43be-9249-f58ff68496d7",
   "metadata": {},
   "outputs": [],
   "source": [
    "dfold = df[df[\"Released_Year\"]>1980]\n",
    "\n",
    "correlation_matrix = dfold.select_dtypes(include=[\"number\"]).corr()\n",
    "correlation_matrix\n",
    "plt.figure(figsize=(10,6))\n",
    "sns.heatmap(correlation_matrix, annot=True, cmap=\"coolwarm\", fmt=\".2f\", linewidths=0.5)\n",
    "plt.show()"
   ]
  },
  {
   "cell_type": "code",
   "execution_count": null,
   "id": "d8383d34-7f3c-4487-94bf-26e7570998f4",
   "metadata": {},
   "outputs": [],
   "source": [
    "dfold = df[df[\"Released_Year\"]<1960]\n",
    "\n",
    "correlation_matrix = dfold.select_dtypes(include=[\"number\"]).corr()\n",
    "correlation_matrix\n",
    "# plt.figure(figsize=(10,6))\n",
    "sns.heatmap(correlation_matrix, annot=True, cmap=\"coolwarm\", fmt=\".2f\", linewidths=0.5)\n",
    "plt.show()"
   ]
  },
  {
   "cell_type": "code",
   "execution_count": null,
   "id": "8c2302de-e1fe-4292-a269-2ee8fd26732d",
   "metadata": {},
   "outputs": [],
   "source": [
    "import pandas as pd\n",
    "import numpy as np\n",
    "df['5anni']= pd.cut(df['Released_Year'], bins=range(1920,2026,5), right=True) #suddivisione della colonno numerica di rating in intervalli di 0.5\n",
    "#calcolo il numero medio di voti per ciascun gruppo di rating\n",
    "mean_gross_by_5anni = df.groupby('5anni')['Meta_score'].mean() #raggruppo i dati per fasce di rating\n",
    "print(mean_gross_by_5anni)"
   ]
  },
  {
   "cell_type": "code",
   "execution_count": null,
   "id": "c4d6eebd-adcd-4931-b1ae-cc2275f5503f",
   "metadata": {},
   "outputs": [],
   "source": [
    "import pandas as pd\n",
    "import numpy as np\n",
    "df['10metascore']= pd.cut(df['Meta_score'], bins=range(0,101,10), right=True) #suddivisione della colonno numerica di rating in intervalli di 0.5\n",
    "#calcolo il numero medio di voti per ciascun gruppo di rating\n",
    "mean_No_of_Votes_by_10metascore = df.groupby('10metascore')['No_of_Votes'].mean() #raggruppo i dati per fasce di rating\n",
    "print(mean_No_of_Votes_by_10metascore)"
   ]
  },
  {
   "cell_type": "code",
   "execution_count": null,
   "id": "6b604567-f720-4930-9901-9bbcb5e3b544",
   "metadata": {},
   "outputs": [],
   "source": [
    "import pandas as pd\n",
    "import numpy as np\n",
    "df['10metascore']= pd.cut(df['Meta_score'], bins=range(0,101,10), right=True) #suddivisione della colonno numerica di rating in intervalli di 0.5\n",
    "#calcolo il numero medio di voti per ciascun gruppo di rating\n",
    "mean_No_of_Votes_by_10metascore = df.groupby('10metascore')['No_of_Votes'].mean() #raggruppo i dati per fasce di rating\n",
    "print(mean_No_of_Votes_by_10metascore)"
   ]
  }
 ],
 "metadata": {
  "kernelspec": {
   "display_name": "Python [conda env:base] *",
   "language": "python",
   "name": "conda-base-py"
  },
  "language_info": {
   "codemirror_mode": {
    "name": "ipython",
    "version": 3
   },
   "file_extension": ".py",
   "mimetype": "text/x-python",
   "name": "python",
   "nbconvert_exporter": "python",
   "pygments_lexer": "ipython3",
   "version": "3.12.7"
  }
 },
 "nbformat": 4,
 "nbformat_minor": 5
}
