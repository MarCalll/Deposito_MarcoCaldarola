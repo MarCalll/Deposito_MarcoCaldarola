{
 "cells": [
  {
   "cell_type": "code",
   "execution_count": null,
   "id": "ebc02b17-8c14-411a-9514-1fc5d1c9dd9d",
   "metadata": {},
   "outputs": [],
   "source": [
    "import pandas as pd\n",
    "import matplotlib.pyplot as plt\n",
    "import seaborn as sns\n",
    "\n",
    "# Percorso del file CSV\n",
    "file_path = 'avocado.csv'\n",
    "\n",
    "# Caricamento dei dati nel DataFrame\n",
    "df = pd.read_csv(file_path)\n",
    "\n",
    "#le prime righe del DataFrame per confermare \n",
    "df.head()"
   ]
  },
  {
   "cell_type": "code",
   "execution_count": null,
   "id": "8644beed-50a4-49da-a49b-7f495c63348d",
   "metadata": {},
   "outputs": [],
   "source": [
    "df.info()"
   ]
  },
  {
   "cell_type": "code",
   "execution_count": null,
   "id": "f9afdc96-d6a1-4e0c-a772-8b5c890c9f46",
   "metadata": {},
   "outputs": [],
   "source": [
    "#Voglio sapere in quale periodo si sono venduti più avocado.\n",
    "TopVolumeTotaleAvocado=df[df[\"region\"]==\"TotalUS\"].sort_values(by=\"Total Volume\", ascending=False).head(10)\n",
    "TopVolumeTotaleAvocado"
   ]
  },
  {
   "cell_type": "code",
   "execution_count": null,
   "id": "bbc38fd3-1581-4142-97f8-805c79c60ed0",
   "metadata": {},
   "outputs": [],
   "source": [
    "#Voglio sapere in quale periodo si sono venduti la minor quantità di avocado.\n",
    "BottomVolumeTotaleAvocado=df[df[\"region\"]==\"TotalUS\"].sort_values(by=\"Total Volume\", ascending=True).head(10)\n",
    "BottomVolumeTotaleAvocado"
   ]
  },
  {
   "cell_type": "code",
   "execution_count": null,
   "id": "3c57d00e-dec0-42e8-8a33-12fa78535286",
   "metadata": {
    "scrolled": true
   },
   "outputs": [],
   "source": [
    "# Matrice senza le righe TotalUS\n",
    "#regionFiltrate = ['TotalUS', 'West', 'Plains', 'Midsouth', 'Southeast', 'GreatLakes', 'Northeast']\n",
    "#dfNoTotalUS = df[~df['region'].isin(regionFiltrate)]\n",
    "dfNoTotalUS = df[(df['region'] != 'TotalUS') & (df['region'] != 'West') & (df['region'] != 'Plains') & (df['region'] != 'Midsouth') & (df['region'] != 'Southeast') & (df['region'] != 'GreatLakes') & (df['region'] != 'Northeast')]\n",
    "correlation_matrix =dfNoTotalUS.select_dtypes(include=[\"number\"]).corr()\n",
    "plt.figure(figsize=(10,6))\n",
    "sns.heatmap(correlation_matrix, annot=True, cmap=\"coolwarm\", fmt=\".2f\", linewidths=0.5)\n",
    "plt.show()\n",
    "\n",
    "#Osservazioni:\n",
    "# 1. Total Volume - Avarage Price : correlazione debole che potrebbe stare ad indicare che più richiesta c'è di avocado meno verranno a costare o viceversa\n",
    "#     quando i prezzi sono più bassi, più persone li comprano\n",
    "\n",
    "# 2. AveragePrice - i vari tipi di avocado: la correlazione conferma che un aumento del prezzo medio porta a una diminuzione delle vendite per tutti\n",
    "#     i tipi di avocado, avvalorando il punto 1, in più:\n",
    "#     la tipologia 4046 ha una correlazione negativa relativamente forte con il prezzo medio, il che suggerisce che questa varietà tende a essere meno\n",
    "#     costosa quando il prezzo medio è più basso.\n",
    "\n",
    "#     la tipologia 4225 ha una correlazione simile, sebbene leggermente inferiore a quella di 4046, indicando che anche questa varietà tende\n",
    "#     a essere venduta a un prezzo relativamente più basso.\n",
    "\n",
    "#     la tipologia 4770 suggerisce che questa varietà potrebbe essere più costosa rispetto alle altre due.\n",
    "\n",
    "# 3. Correlazione tra i tipi di avocado: potrebbe stare a significare che i vari tipi di avocado tendono ad essere venduti insieme e i tipi 4046 e 4225 \n",
    "#     sono più popolari del 4770.\n",
    "#     Anche tutti i tipi di avocado seguono la stessa tendenza con l'avarage price e total volume: quando il prezzo medio aumenta, le vendite diminuiscono\n",
    "\n",
    "# 4. Total Bags - small bags: ha una correlazione fortissima con Small Bags questo starebbe a significare che la maggior parte degli avocado viene venduta \n",
    "#     in sacchetti piccoli"
   ]
  },
  {
   "cell_type": "code",
   "execution_count": null,
   "id": "f40d19f4-4603-4631-860a-3f6be9fe7466",
   "metadata": {},
   "outputs": [],
   "source": [
    "# Raggruppamento per fasce di prezzo\n",
    "df['AveragePricegroup']= pd.cut(df['AveragePrice'], bins=range(0,5,1), right=False)\n",
    "mean_avaragepricegroup_by_Volume = df.groupby('AveragePricegroup', observed=True)['Total Volume'].mean()\n",
    "print(mean_avaragepricegroup_by_Volume)\n",
    "#Il risultato dimostra che con l'aumentare del prezzo le vendite diminuiscono"
   ]
  },
  {
   "cell_type": "code",
   "execution_count": null,
   "id": "526f14c9-3857-4327-9018-d46c5562986a",
   "metadata": {},
   "outputs": [],
   "source": [
    "# Scatter plot per visualizzare la relazione\n",
    "plt.figure(figsize=(10, 6))\n",
    "sns.scatterplot(data=df, x='AveragePrice', y='Total Volume')\n",
    "plt.title('Scatter Plot di Total Volume vs Average Price')\n",
    "plt.xlabel('Average Price')\n",
    "plt.ylabel('Total Volume')\n",
    "plt.show()\n",
    "#Questo scatter plot dimostra come a prezzi bassi c'è una maggiore domanda"
   ]
  },
  {
   "cell_type": "code",
   "execution_count": null,
   "id": "ca6f265a-3b37-468e-8e84-989849f8cc48",
   "metadata": {},
   "outputs": [],
   "source": [
    "# volume medio per tipo di avocado rispetto al prezzo medio\n",
    "volume_price_tipo = df.groupby(['AveragePrice'])[['4046', '4225', '4770']].mean()\n",
    "\n",
    "# prezzo medio per il quale il volume è massimo per ciascun tipo di avocado\n",
    "volume_price_4046 = volume_price_tipo.loc[volume_price_tipo['4046'] == volume_price_tipo['4046'].max()]\n",
    "volume_price_4225 = volume_price_tipo.loc[volume_price_tipo['4225'] == volume_price_tipo['4225'].max()]\n",
    "volume_price_4770 = volume_price_tipo.loc[volume_price_tipo['4770'] == volume_price_tipo['4770'].max()]\n",
    "\n",
    "print(\"\\n-------------------- volume_price_4046 -------------------- \\n\",volume_price_4046)\n",
    "print(\"\\n-------------------- volume_price_4225 -------------------- \\n\",volume_price_4225)\n",
    "print(\"\\n-------------------- volume_price_4770 -------------------- \\n\",volume_price_4770)\n",
    "\n",
    "#confronto volume massimi tra i 3 tipi di avocado "
   ]
  },
  {
   "cell_type": "code",
   "execution_count": null,
   "id": "1380b3dd-834b-46bf-9e83-385566b4291a",
   "metadata": {},
   "outputs": [],
   "source": [
    "# tipo di avocado con max volume totale\n",
    "volume_per_tipo = df[['4046', '4225', '4770']].sum()\n",
    "print(volume_per_tipo)\n",
    "\n",
    "# Questo grafico dimostra che si sceglievano le tipologie 4046 e 4225(comunque le tipologie più economiche come dimostrato nella matrice)."
   ]
  },
  {
   "cell_type": "code",
   "execution_count": null,
   "id": "8955b798-bed4-497d-aaf3-d8f8a5d10e9d",
   "metadata": {},
   "outputs": [],
   "source": [
    "#Top 10 regioni che hanno acquistato più avocado?\n",
    "volumeGroupByRegion = dfNoTotalUS.groupby(['region'])[\"Total Volume\"].mean()\n",
    "top_10_regions = volumeGroupByRegion.sort_values(ascending=False).head(10)\n",
    "top_10_regions"
   ]
  },
  {
   "cell_type": "code",
   "execution_count": null,
   "id": "2d3b06ab-f935-4400-8638-b03b7a1d4a87",
   "metadata": {},
   "outputs": [],
   "source": [
    "#regioni che hanno acquistato più avocado organici?\n",
    "df_organic=dfNoTotalUS[dfNoTotalUS[\"type\"]==\"organic\"]\n",
    "regions_organic= df_organic.groupby(['region'])[\"Total Volume\"].mean().sort_values(ascending=False).head(10)\n",
    "print(\"\\nregioni che hanno acquistato più avocado organici?\\n\\n\",regions_organic)\n",
    "#regioni che hanno acquistato più avocado convenzionali?\n",
    "df_conv=dfNoTotalUS[dfNoTotalUS[\"type\"]==\"conventional\"]\n",
    "regions_conv = df_conv.groupby(['region'])[\"Total Volume\"].mean().sort_values(ascending=False).head(10)\n",
    "print(\"\\nregioni che hanno acquistato più avocado convenzionali?\\n\\n\",regions_conv)\n",
    "#Sono stati venduti molti più avocado convenzionali che biologici, i cambiamenti si vedono dal quinto posto in poi"
   ]
  },
  {
   "cell_type": "code",
   "execution_count": null,
   "id": "556b43c5-e605-4b66-8b3a-7c2ff61b9792",
   "metadata": {},
   "outputs": [],
   "source": [
    "#Andamento volume avocado negli anni organici e convenzionali negli anni\n",
    "\n",
    "dfNoTotalUS = dfNoTotalUS.copy()\n",
    "dfNoTotalUS['Date'] = pd.to_datetime(dfNoTotalUS['Date'])\n",
    "\n",
    "df_organic = dfNoTotalUS[dfNoTotalUS['type'] == 'organic'].copy()\n",
    "df_2020org = df_organic[df_organic['Date'].dt.year <= 2020]\n",
    "volumeGroupByDate_2020organic = df_2020org.groupby('Date')['Total Volume'].mean()\n",
    "\n",
    "df_conv = dfNoTotalUS[dfNoTotalUS['type'] == 'conventional'].copy()\n",
    "df_2020conv = df_conv[df_conv['Date'].dt.year <= 2020]\n",
    "volumeGroupByDate_2020conv = df_2020conv.groupby('Date')['Total Volume'].mean()\n",
    "\n",
    "plt.figure(figsize=(12, 3))\n",
    "plt.plot(volumeGroupByDate_2020organic.index, volumeGroupByDate_2020organic.values, color='green', label='Biologico')\n",
    "plt.title('Andamento del Volume di Avocado Biologici negli anni')\n",
    "plt.xlabel('Data')\n",
    "plt.ylabel('Volume Medio')\n",
    "plt.xticks(rotation=45)\n",
    "plt.grid(True)\n",
    "plt.legend()\n",
    "plt.show()\n",
    "\n",
    "plt.figure(figsize=(12.29, 3))\n",
    "plt.plot(volumeGroupByDate_2020conv.index, volumeGroupByDate_2020conv.values, color='orange', label='Convenzionale')\n",
    "plt.title('Andamento del Volume di Avocado Convenzionali negli anni')\n",
    "plt.xlabel('Data')\n",
    "plt.ylabel('Volume Medio')\n",
    "plt.xticks(rotation=45)\n",
    "plt.grid(True)\n",
    "plt.legend()\n",
    "plt.show()\n",
    "\n",
    "\n",
    "#Osservazioni:\n",
    "# Nel 2017 gli avocado biologici nonostante la loro quantità molto minore rispetto a quelli convenzionali, rimangono relativamente stabili con qualche \n",
    "# fluttuazione, e crescono di popolarità.\n",
    "# Invece per quelli convenzionali c'è molta più fluttuazione. \n",
    "# Si possono notare anche per entrambi picchi intorno a febbraio-marzo e giugno-luglio ogni anno\n",
    "# "
   ]
  },
  {
   "cell_type": "code",
   "execution_count": null,
   "id": "525f0fc0-d1d0-44b9-a999-1afcb9548746",
   "metadata": {},
   "outputs": [],
   "source": [
    "df['Date'] = pd.to_datetime(dfNoTotalUS['Date'])\n",
    "df_2020 = df[df['Date'].dt.year <= 2020]\n",
    "priceGroupByDate_2020 = df_2020.groupby(['Date'])['AveragePrice'].mean()\n",
    "volumeGroupByDate_2020 = df_2020.groupby(['Date'])['Total Volume'].mean()\n",
    "\n",
    "fig, ax1 = plt.subplots(figsize=(12, 5))\n",
    "ax1.set_xlabel('Data')\n",
    "ax1.set_ylabel('Prezzo Medio', color='tab:red')\n",
    "ax1.plot(priceGroupByDate_2020.index, priceGroupByDate_2020.values, color='tab:red', label=\"Prezzo Medio\")\n",
    "ax1.tick_params(axis='y', labelcolor='tab:red')\n",
    "\n",
    "ax2 = ax1.twinx()\n",
    "ax2.set_ylabel('Volume Medio', color='tab:blue')\n",
    "ax2.plot(volumeGroupByDate_2020.index, volumeGroupByDate_2020.values, color='tab:blue', label=\"Volume Medio\")\n",
    "ax2.tick_params(axis='y', labelcolor='tab:blue')\n",
    "\n",
    "plt.title('Andamento del Prezzo Medio e del Volume degli Avocado nel Tempo')\n",
    "fig.tight_layout()\n",
    "plt.grid(True)\n",
    "plt.show()\n",
    "\n",
    "# in questo grafico si puo notare come nei periodi in cui il prezzo è oiù basso gli acquisti sono molto più alti\n"
   ]
  },
  {
   "cell_type": "code",
   "execution_count": null,
   "id": "b6c99037-fa25-4baa-9995-6b28871bf843",
   "metadata": {},
   "outputs": [],
   "source": [
    "df['type'] = df['type'].astype('category')\n",
    "df['Avocado_Type'] = df['type'].cat.codes\n",
    "df[['type', 'Avocado_Type']].head()\n",
    "\n",
    "# Creare un pair plot per analizzare le relazioni tra variabili numeriche\n",
    "plt.figure(figsize=(10, 6))\n",
    "sns.pairplot(df.select_dtypes(include=['number']), hue='Avocado_Type', palette='coolwarm', corner=True)\n",
    "plt.show()"
   ]
  },
  {
   "cell_type": "code",
   "execution_count": null,
   "id": "c678f26f-66be-4dfc-b96c-f69f68060469",
   "metadata": {},
   "outputs": [],
   "source": [
    "\n"
   ]
  },
  {
   "cell_type": "code",
   "execution_count": null,
   "id": "955093a7-7cea-47a1-934d-322fbdb0a92c",
   "metadata": {},
   "outputs": [],
   "source": []
  },
  {
   "cell_type": "code",
   "execution_count": null,
   "id": "8855c814-acc9-473d-ba0b-ff79a137257f",
   "metadata": {},
   "outputs": [],
   "source": []
  },
  {
   "cell_type": "code",
   "execution_count": null,
   "id": "864dc090-7c6a-4e94-a98e-d42881cb6fb2",
   "metadata": {},
   "outputs": [],
   "source": []
  },
  {
   "cell_type": "code",
   "execution_count": null,
   "id": "d239cdec-4d27-4bc4-92e0-028178d95613",
   "metadata": {},
   "outputs": [],
   "source": []
  }
 ],
 "metadata": {
  "kernelspec": {
   "display_name": "Python [conda env:base] *",
   "language": "python",
   "name": "conda-base-py"
  },
  "language_info": {
   "codemirror_mode": {
    "name": "ipython",
    "version": 3
   },
   "file_extension": ".py",
   "mimetype": "text/x-python",
   "name": "python",
   "nbconvert_exporter": "python",
   "pygments_lexer": "ipython3",
   "version": "3.12.7"
  }
 },
 "nbformat": 4,
 "nbformat_minor": 5
}
