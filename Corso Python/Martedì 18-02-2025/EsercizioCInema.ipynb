{
 "cells": [
  {
   "cell_type": "code",
   "execution_count": null,
   "id": "3db1e74b-0569-4ac5-a544-8a19fbbac6b9",
   "metadata": {},
   "outputs": [],
   "source": [
    "import pandas as pd\n",
    "\n",
    "# Percorso del file CSV\n",
    "file_path = 'imdb_top_1000.csv'\n",
    "\n",
    "# Caricamento dei dati nel DataFrame\n",
    "df = pd.read_csv(file_path)\n",
    "\n",
    "#le prime righe del DataFrame per confermare\n",
    "print(df.head())"
   ]
  },
  {
   "cell_type": "code",
   "execution_count": null,
   "id": "5f43a9f3-6d44-4ee8-8b1c-592427a4250e",
   "metadata": {},
   "outputs": [],
   "source": [
    "df"
   ]
  },
  {
   "cell_type": "code",
   "execution_count": null,
   "id": "23c3f39a-8989-4d14-9a87-8b81d9a67543",
   "metadata": {},
   "outputs": [],
   "source": [
    "df.isnull().sum()"
   ]
  },
  {
   "cell_type": "code",
   "execution_count": null,
   "id": "69719ab9-f7b9-4d29-a7e9-79698f9c218e",
   "metadata": {},
   "outputs": [],
   "source": [
    "df.info()"
   ]
  },
  {
   "cell_type": "code",
   "execution_count": null,
   "id": "c6a3599e-593f-483e-80e0-23e77105b4cb",
   "metadata": {},
   "outputs": [],
   "source": [
    "df_pieno = df[\"Gross\"].dropna()\n",
    "df_pieno"
   ]
  },
  {
   "cell_type": "code",
   "execution_count": null,
   "id": "8dd900be-4ee1-47bf-816a-7fd33a224fcb",
   "metadata": {},
   "outputs": [],
   "source": [
    "df_pieno = df_pieno.str.replace(\",\", \"\").astype(int)\n",
    "df_pieno\n",
    "media_gross = df_pieno[1].mean().astype(float)\n",
    "media_gross"
   ]
  },
  {
   "cell_type": "code",
   "execution_count": null,
   "id": "f5c5b656-bd19-43c0-8bf2-bc3aefda2a29",
   "metadata": {},
   "outputs": [],
   "source": [
    "df['Meta_score'] = df['Meta_score'].fillna(df['Meta_score'].mean())\n",
    "df['Gross'] = df['Gross'].str.replace(\",\", \"\").astype(float)\n",
    "df['Gross'] = df['Gross'].fillna(media_gross)\n",
    "# df.isnull().sum()\n",
    "df"
   ]
  },
  {
   "cell_type": "code",
   "execution_count": null,
   "id": "12cb5f27-831e-4c31-95ce-2f120aa23221",
   "metadata": {},
   "outputs": [],
   "source": [
    "df.info()"
   ]
  },
  {
   "cell_type": "code",
   "execution_count": null,
   "id": "36e206da-110c-4a82-8c30-7550f46988f7",
   "metadata": {},
   "outputs": [],
   "source": [
    "df.describe()"
   ]
  },
  {
   "cell_type": "code",
   "execution_count": null,
   "id": "4a223417-4766-4c53-8391-02ed636f95e1",
   "metadata": {},
   "outputs": [],
   "source": [
    "import seaborn as sns\n",
    "import matplotlib.pyplot as plt\n",
    "\n",
    "correlation_matrix = df.select_dtypes(include=[\"number\"]).corr()\n",
    "correlation_matrix\n",
    "plt.figure(figsize =(10,6))\n",
    "sns.heatmap(correlation_matrix, annot = True, cmap =\"coolwarm\", fmt = \".2f\", linewidths =0.5)\n",
    "plt.show()"
   ]
  },
  {
   "cell_type": "code",
   "execution_count": null,
   "id": "c874cbbc-0566-47f2-b51a-16757c7e71f8",
   "metadata": {},
   "outputs": [],
   "source": [
    "mean_Gross_byGenre = df.groupby(df['Genre'].str.split(\",\", n=1).str[0])['Gross'].mean()\n",
    "mean_Gross_byGenre"
   ]
  },
  {
   "cell_type": "code",
   "execution_count": null,
   "id": "725b15e7-1818-4365-b1d5-e472b689d203",
   "metadata": {},
   "outputs": [],
   "source": [
    "df['IMDBGroup'] = pd.cut(df['IMDB_Rating'], bins=[7.6, 8.0, 8.5, 9.0, 9.3], right=False)\n",
    "mean_Gross_byIMDB = df.groupby('IMDBGroup')['Gross'].mean()\n",
    "mean_Gross_byIMDB"
   ]
  },
  {
   "cell_type": "code",
   "execution_count": null,
   "id": "3e50d027-21a0-414b-90b4-79cf4c9257e5",
   "metadata": {},
   "outputs": [],
   "source": [
    "df['Runtime'] = df['Runtime'].str.replace(\" min\", \"\").astype(int)"
   ]
  },
  {
   "cell_type": "code",
   "execution_count": null,
   "id": "9c48ba79-305b-4439-9ab4-6cfbe03f6f5a",
   "metadata": {},
   "outputs": [],
   "source": [
    "df[df[\"Gross\"] == df[\"Gross\"].min()]"
   ]
  },
  {
   "cell_type": "code",
   "execution_count": null,
   "id": "745cdca2-fc56-493e-b3c1-4e4e4319517f",
   "metadata": {},
   "outputs": [],
   "source": [
    "df[df[\"Gross\"] == df[\"Gross\"].max()]"
   ]
  },
  {
   "cell_type": "code",
   "execution_count": null,
   "id": "5ae0614b-be99-4ac1-a7be-a64f8fdd3be7",
   "metadata": {},
   "outputs": [],
   "source": [
    "attori_presenti1 = df['Star1'].value_counts()\n",
    "attori_presenti2 = df['Star2'].value_counts()\n",
    "attori_presenti3 = df['Star3'].value_counts()\n",
    "attori_presenti4 = df['Star4'].value_counts()\n",
    "print(attori_presenti1)\n",
    "print(attori_presenti2)\n",
    "print(attori_presenti3)\n",
    "print(attori_presenti4)"
   ]
  }
 ],
 "metadata": {
  "kernelspec": {
   "display_name": "Python [conda env:base] *",
   "language": "python",
   "name": "conda-base-py"
  },
  "language_info": {
   "codemirror_mode": {
    "name": "ipython",
    "version": 3
   },
   "file_extension": ".py",
   "mimetype": "text/x-python",
   "name": "python",
   "nbconvert_exporter": "python",
   "pygments_lexer": "ipython3",
   "version": "3.12.7"
  }
 },
 "nbformat": 4,
 "nbformat_minor": 5
}
