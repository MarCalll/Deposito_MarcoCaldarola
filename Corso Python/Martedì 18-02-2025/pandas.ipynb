{
 "cells": [
  {
   "cell_type": "code",
   "execution_count": null,
   "id": "a16efac7-2014-4e3b-9ea0-0793b43fcbc0",
   "metadata": {},
   "outputs": [],
   "source": [
    "import pandas as pd\n",
    "\n",
    "# Percorso del file CSV\n",
    "file_path = 'train.csv'\n",
    "\n",
    "# Caricamento dei dati nel DataFrame\n",
    "df = pd.read_csv(file_path)\n",
    "\n",
    "#le prime righe del DataFrame per confermare\n",
    "print(df.head())"
   ]
  },
  {
   "cell_type": "code",
   "execution_count": null,
   "id": "5787fe0c-ca3f-4b9b-bbf3-e32806002f3c",
   "metadata": {},
   "outputs": [],
   "source": [
    "df_age = df[df['Age'] > 25]\n",
    "\n",
    "df_age"
   ]
  },
  {
   "cell_type": "code",
   "execution_count": null,
   "id": "452ae3bf-9c1e-4ead-8c99-70dca12dc8be",
   "metadata": {},
   "outputs": [],
   "source": [
    "df.tail()"
   ]
  },
  {
   "cell_type": "code",
   "execution_count": null,
   "id": "fe98ba9a-eaba-4f10-811f-7c886f80232f",
   "metadata": {},
   "outputs": [],
   "source": [
    "df.info()"
   ]
  },
  {
   "cell_type": "code",
   "execution_count": null,
   "id": "6dcbf0d9-3efa-418d-86e7-8b86606d782e",
   "metadata": {},
   "outputs": [],
   "source": [
    "df.describe()"
   ]
  },
  {
   "cell_type": "code",
   "execution_count": null,
   "id": "7152a8b3-993b-4725-80e0-1e0d521828c4",
   "metadata": {},
   "outputs": [],
   "source": [
    "df.shape"
   ]
  },
  {
   "cell_type": "code",
   "execution_count": null,
   "id": "bcac85cf-bd2f-4312-8760-79f551220ea5",
   "metadata": {},
   "outputs": [],
   "source": [
    "df.columns"
   ]
  },
  {
   "cell_type": "code",
   "execution_count": null,
   "id": "4f0fea9b-c40b-40ac-aaba-9794f2650029",
   "metadata": {},
   "outputs": [],
   "source": [
    "df.index"
   ]
  },
  {
   "cell_type": "code",
   "execution_count": null,
   "id": "30552432-cfac-4f9e-84d3-b85384443f30",
   "metadata": {},
   "outputs": [],
   "source": [
    "age=df[\"Age\"]\n",
    "age"
   ]
  },
  {
   "cell_type": "code",
   "execution_count": null,
   "id": "9ebfd4c3-fbe5-4702-9d66-4f5cd10256f0",
   "metadata": {},
   "outputs": [],
   "source": [
    "selection = df[[\"Age\",\"Survived\",\"Fare\"]]\n",
    "selection"
   ]
  },
  {
   "cell_type": "code",
   "execution_count": null,
   "id": "535c64c3-97f7-4a6d-81ca-e81d88ce8563",
   "metadata": {},
   "outputs": [],
   "source": [
    "print(df.iloc[1:7])"
   ]
  },
  {
   "cell_type": "code",
   "execution_count": null,
   "id": "33212139-d102-4961-a436-62d316364751",
   "metadata": {},
   "outputs": [],
   "source": [
    "survivors = df[df['Survived']==1]\n",
    "survivors"
   ]
  },
  {
   "cell_type": "code",
   "execution_count": null,
   "id": "3f72d9e5-42ff-45ff-92e8-4a4c066e43d9",
   "metadata": {},
   "outputs": [],
   "source": [
    "aged = df[df['Age']>50]\n",
    "sorted_aged = aged.sort_values('Age',ascending=True)\n",
    "sorted_aged"
   ]
  },
  {
   "cell_type": "code",
   "execution_count": null,
   "id": "29221cd8-0097-42d3-b607-628447ddf39f",
   "metadata": {},
   "outputs": [],
   "source": [
    "df.isnull().sum()"
   ]
  },
  {
   "cell_type": "code",
   "execution_count": null,
   "id": "71e61b9d-1e30-46f9-bda0-8a89e733e13a",
   "metadata": {},
   "outputs": [],
   "source": [
    "df = df.drop('Cabin',axis=1)\n",
    "df"
   ]
  },
  {
   "cell_type": "code",
   "execution_count": null,
   "id": "097f1292-7748-47f6-a7a0-3bd62a298a2c",
   "metadata": {},
   "outputs": [],
   "source": [
    "df_notnull = df.dropna()\n",
    "df_notnull.isnull().sum()"
   ]
  },
  {
   "cell_type": "code",
   "execution_count": null,
   "id": "2247cee3-b115-470c-9698-6664291c069a",
   "metadata": {},
   "outputs": [],
   "source": [
    "df['Age'] = df['Age'].fillna(df['Age'].mean())\n",
    "df.isnull().sum()"
   ]
  },
  {
   "cell_type": "code",
   "execution_count": null,
   "id": "9b5370e7-847e-4e76-8b54-9b45b276b42b",
   "metadata": {},
   "outputs": [],
   "source": [
    "df['Embarked'].unique()"
   ]
  },
  {
   "cell_type": "code",
   "execution_count": null,
   "id": "34bf1618-a27f-4920-bcc9-a54d5105b834",
   "metadata": {},
   "outputs": [],
   "source": [
    "df['Embarked'].value_counts()"
   ]
  },
  {
   "cell_type": "code",
   "execution_count": null,
   "id": "ee385c26-b59b-41df-9d08-ef09ec8b87b8",
   "metadata": {},
   "outputs": [],
   "source": [
    "mean_age_byclass = df.groupby('Pclass')['Age'].mean()\n",
    "mean_age_byclass"
   ]
  },
  {
   "cell_type": "code",
   "execution_count": null,
   "id": "77926dcf-6fff-42f1-a2f5-be8700968b2c",
   "metadata": {},
   "outputs": [],
   "source": [
    "esercizio1 = df.groupby('Pclass')['Fare'].mean()\n",
    "esercizio1"
   ]
  },
  {
   "cell_type": "code",
   "execution_count": null,
   "id": "74b90b0e-acd0-4968-a820-534a4b6d25b1",
   "metadata": {},
   "outputs": [],
   "source": [
    "df['AgeGroup'] = pd.cut(df['Age'], bins=range(0, 85, 5), right=False)\n",
    "mean_fare_byagegroup = df.groupby('AgeGroup')['Fare'].mean()\n",
    "mean_fare_byagegroup"
   ]
  },
  {
   "cell_type": "code",
   "execution_count": null,
   "id": "795b77bc-aa7c-4dc2-8517-7dd0828e929a",
   "metadata": {
    "scrolled": true
   },
   "outputs": [],
   "source": [
    "df['Sex'] = df['Sex'].astype('category')\n",
    "df['Sex_code'] = df['Sex'].cat.codes\n",
    "df[['Sex', 'Sex_code']].head()\n",
    "df_encoded = pd.get_dummies(df, columns=['Embarked'], prefix='Embarked')\n",
    "df_encoded.head()"
   ]
  },
  {
   "cell_type": "code",
   "execution_count": null,
   "id": "9bebb110-9647-4151-ae7f-985200d6fe7d",
   "metadata": {},
   "outputs": [],
   "source": []
  }
 ],
 "metadata": {
  "kernelspec": {
   "display_name": "Python [conda env:base] *",
   "language": "python",
   "name": "conda-base-py"
  },
  "language_info": {
   "codemirror_mode": {
    "name": "ipython",
    "version": 3
   },
   "file_extension": ".py",
   "mimetype": "text/x-python",
   "name": "python",
   "nbconvert_exporter": "python",
   "pygments_lexer": "ipython3",
   "version": "3.12.7"
  }
 },
 "nbformat": 4,
 "nbformat_minor": 5
}
