{
 "cells": [
  {
   "cell_type": "code",
   "execution_count": null,
   "id": "3db1e74b-0569-4ac5-a544-8a19fbbac6b9",
   "metadata": {},
   "outputs": [],
   "source": [
    "import pandas as pd\n",
    "\n",
    "# Percorso del file CSV\n",
    "file_path = 'imdb_top_1000.csv'\n",
    "\n",
    "# Caricamento dei dati nel DataFrame\n",
    "df = pd.read_csv(file_path)\n",
    "\n",
    "#le prime righe del DataFrame per confermare\n",
    "print(df.head())"
   ]
  },
  {
   "cell_type": "code",
   "execution_count": null,
   "id": "5f43a9f3-6d44-4ee8-8b1c-592427a4250e",
   "metadata": {},
   "outputs": [],
   "source": [
    "df"
   ]
  },
  {
   "cell_type": "code",
   "execution_count": null,
   "id": "23c3f39a-8989-4d14-9a87-8b81d9a67543",
   "metadata": {},
   "outputs": [],
   "source": [
    "df.isnull().sum()"
   ]
  },
  {
   "cell_type": "code",
   "execution_count": null,
   "id": "69719ab9-f7b9-4d29-a7e9-79698f9c218e",
   "metadata": {},
   "outputs": [],
   "source": [
    "df.info()"
   ]
  },
  {
   "cell_type": "code",
   "execution_count": null,
   "id": "c6a3599e-593f-483e-80e0-23e77105b4cb",
   "metadata": {},
   "outputs": [],
   "source": [
    "df_pieno = df[\"Gross\"].dropna()\n",
    "df_pieno"
   ]
  },
  {
   "cell_type": "code",
   "execution_count": null,
   "id": "8dd900be-4ee1-47bf-816a-7fd33a224fcb",
   "metadata": {},
   "outputs": [],
   "source": [
    " df_pieno = df_pieno.str.replace(\",\", \"\").astype(int)\n",
    " df_pieno\n",
    "media_gross = df_pieno[1].mean().astype(float)\n",
    "media_gross"
   ]
  },
  {
   "cell_type": "code",
   "execution_count": null,
   "id": "f5c5b656-bd19-43c0-8bf2-bc3aefda2a29",
   "metadata": {},
   "outputs": [],
   "source": [
    "df['Meta_score'] = df['Meta_score'].fillna(df['Meta_score'].mean())\n",
    "df['Gross'] = df['Gross'].str.replace(\",\", \"\").astype(float)\n",
    "df['Gross'] = df['Gross'].fillna(media_gross)\n",
    "# df.isnull().sum()\n",
    "df"
   ]
  },
  {
   "cell_type": "code",
   "execution_count": null,
   "id": "12cb5f27-831e-4c31-95ce-2f120aa23221",
   "metadata": {},
   "outputs": [],
   "source": [
    "df.info()"
   ]
  },
  {
   "cell_type": "code",
   "execution_count": null,
   "id": "36e206da-110c-4a82-8c30-7550f46988f7",
   "metadata": {},
   "outputs": [],
   "source": [
    "df.describe()"
   ]
  },
  {
   "cell_type": "code",
   "execution_count": null,
   "id": "4a223417-4766-4c53-8391-02ed636f95e1",
   "metadata": {},
   "outputs": [],
   "source": [
    "import seaborn as sns\n",
    "import matplotlib.pyplot as plt\n",
    "\n",
    "correlation_matrix = df.select_dtypes(include=[\"number\"]).corr()\n",
    "correlation_matrix\n",
    "plt.figure(figsize =(10,6))\n",
    "sns.heatmap(correlation_matrix, annot = True, cmap =\"coolwarm\", fmt = \".3f\", linewidths =1)\n",
    "plt.show()"
   ]
  },
  {
   "cell_type": "code",
   "execution_count": null,
   "id": "c874cbbc-0566-47f2-b51a-16757c7e71f8",
   "metadata": {},
   "outputs": [],
   "source": [
    "mean_Gross_byGenre = df.groupby(df['Genre'].str.split(\",\", n=1).str[0])['Gross'].mean()\n",
    "mean_Gross_byGenre"
   ]
  },
  {
   "cell_type": "code",
   "execution_count": null,
   "id": "725b15e7-1818-4365-b1d5-e472b689d203",
   "metadata": {},
   "outputs": [],
   "source": [
    "df['IMDBGroup'] = pd.cut(df['IMDB_Rating'], bins=[7.6, 8.0, 8.5, 9.0, 9.3], right=False)\n",
    "mean_Gross_byIMDB = df.groupby('IMDBGroup')['Gross'].mean()\n",
    "mean_Gross_byIMDB"
   ]
  },
  {
   "cell_type": "code",
   "execution_count": null,
   "id": "3e50d027-21a0-414b-90b4-79cf4c9257e5",
   "metadata": {},
   "outputs": [],
   "source": [
    "df['Runtime'] = df['Runtime'].str.replace(\" min\", \"\").astype(int)"
   ]
  },
  {
   "cell_type": "code",
   "execution_count": null,
   "id": "9c48ba79-305b-4439-9ab4-6cfbe03f6f5a",
   "metadata": {},
   "outputs": [],
   "source": [
    "df[df[\"Gross\"] == df[\"Gross\"].min()]"
   ]
  },
  {
   "cell_type": "code",
   "execution_count": null,
   "id": "745cdca2-fc56-493e-b3c1-4e4e4319517f",
   "metadata": {},
   "outputs": [],
   "source": [
    "df[df[\"Gross\"] == df[\"Gross\"].max()]"
   ]
  },
  {
   "cell_type": "code",
   "execution_count": null,
   "id": "cbddfd1d-7c55-4f07-bcb0-552add97db12",
   "metadata": {},
   "outputs": [],
   "source": [
    "has_duplicates = df['Series_Title'].duplicated().any()\n",
    "has_duplicates"
   ]
  },
  {
   "cell_type": "code",
   "execution_count": null,
   "id": "4a593b18-8f65-41d5-8512-6650ec429f2e",
   "metadata": {},
   "outputs": [],
   "source": [
    "duplicate_rows = df[df['Series_Title'].duplicated()]\n",
    "duplicate_rows"
   ]
  },
  {
   "cell_type": "code",
   "execution_count": null,
   "id": "d1168bba-bc3f-4830-a5a0-d781bc9b65c8",
   "metadata": {},
   "outputs": [],
   "source": [
    "duplicates_by_id = df[df.duplicated(subset=['Series_Title'], keep=False)]\n",
    "duplicates_by_id"
   ]
  },
  {
   "cell_type": "code",
   "execution_count": null,
   "id": "5c7fc6cc-7dab-4a4a-a535-7ca0b7dfbfea",
   "metadata": {},
   "outputs": [],
   "source": [
    "registi_presenti = df['Director'].value_counts()\n",
    "registi_presenti"
   ]
  },
  {
   "cell_type": "code",
   "execution_count": null,
   "id": "14e4ff2f-1e47-4325-844c-35df1cafbae7",
   "metadata": {
    "scrolled": true
   },
   "outputs": [],
   "source": [
    "gen_freq = df['Genre'].str.split(\",\", n=1).str[0].value_counts()\n",
    "gen_freq"
   ]
  },
  {
   "cell_type": "code",
   "execution_count": null,
   "id": "ce958dbc-2ea7-4b76-ad50-3eddb5ec5a70",
   "metadata": {},
   "outputs": [],
   "source": [
    "gen_freq2 = df['Genre'].value_counts()\n",
    "gen_freq2"
   ]
  },
  {
   "cell_type": "code",
   "execution_count": null,
   "id": "16cf6e8f-6f3f-47ad-8269-c3bfafbce359",
   "metadata": {},
   "outputs": [],
   "source": [
    "df['Certificate'].unique()"
   ]
  },
  {
   "cell_type": "code",
   "execution_count": null,
   "id": "fe157b7e-843e-467d-b9a2-d319d5424b19",
   "metadata": {},
   "outputs": [],
   "source": [
    "df['Certificate'] = df['Certificate'].fillna('Unrated')\n",
    "cert_freq = df['Certificate'].value_counts()\n",
    "cert_freq"
   ]
  },
  {
   "cell_type": "code",
   "execution_count": null,
   "id": "00280886-b14c-4ee0-adc9-51538a702bf2",
   "metadata": {},
   "outputs": [],
   "source": [
    "top_IMDB = df[df ['IMDB_Rating'] > 8.5]\n",
    "sorted_top = top_IMDB.sort_values('IMDB_Rating', ascending=True)\n",
    "sorted_top"
   ]
  },
  {
   "cell_type": "code",
   "execution_count": null,
   "id": "71ff62de-ddc3-4ca5-9390-27a23640c140",
   "metadata": {},
   "outputs": [],
   "source": [
    "num_top = sorted_top['IMDB_Rating'].count()\n",
    "num_top"
   ]
  },
  {
   "cell_type": "code",
   "execution_count": null,
   "id": "b67f14ec-ed91-49f6-99a8-e546172f1857",
   "metadata": {},
   "outputs": [],
   "source": [
    "df[df[\"IMDB_Rating\"] == df[\"IMDB_Rating\"].max()]"
   ]
  },
  {
   "cell_type": "code",
   "execution_count": null,
   "id": "b8e092c4-6c18-4eb8-b0a0-69f1fd68b293",
   "metadata": {},
   "outputs": [],
   "source": [
    "df[df[\"IMDB_Rating\"] == df[\"IMDB_Rating\"].min()]"
   ]
  },
  {
   "cell_type": "code",
   "execution_count": null,
   "id": "8012713c-2d2d-4f5f-85db-de7dafbbefb8",
   "metadata": {},
   "outputs": [],
   "source": [
    "df[df[\"Meta_score\"] == df[\"Meta_score\"].max()]"
   ]
  },
  {
   "cell_type": "code",
   "execution_count": null,
   "id": "d95afae5-999f-431c-8440-9af59a4417d7",
   "metadata": {},
   "outputs": [],
   "source": [
    "df[df[\"Meta_score\"] == df[\"Meta_score\"].min()]"
   ]
  },
  {
   "cell_type": "code",
   "execution_count": null,
   "id": "cb44f84a-24d2-408c-a2e7-b45a70df7f9f",
   "metadata": {},
   "outputs": [],
   "source": [
    "top_10_IMDBRating = df.sort_values('IMDB_Rating', ascending=False).head(10)\n",
    "top_10_IMDBRating"
   ]
  },
  {
   "cell_type": "code",
   "execution_count": null,
   "id": "dd2b3c54-c206-4320-b909-76793272e07f",
   "metadata": {},
   "outputs": [],
   "source": [
    "top_10_Voti = df.sort_values('No_of_Votes', ascending=False).head(10)\n",
    "top_10_Voti"
   ]
  },
  {
   "cell_type": "code",
   "execution_count": null,
   "id": "6d0ddf0d-e6e7-4025-b622-a18e96de955b",
   "metadata": {},
   "outputs": [],
   "source": [
    "top_10_Incasso = df.sort_values('Gross', ascending=False).head(10)\n",
    "top_10_Incasso"
   ]
  },
  {
   "cell_type": "code",
   "execution_count": null,
   "id": "b7219912-3b34-4f39-ab77-b9da600c4b57",
   "metadata": {},
   "outputs": [],
   "source": [
    "df_contronto = pd.DataFrame({\n",
    "    'Film con più incassi': top_10_Incasso['Series_Title'].reset_index(drop=True),\n",
    "    'Film con più voti': top_10_Voti['Series_Title'].reset_index(drop=True),\n",
    "    'Film con miglior IMDBRating': top_10_IMDBRating['Series_Title'].reset_index(drop=True)\n",
    "})\n",
    "df_contronto"
   ]
  },
  {
   "cell_type": "code",
   "execution_count": null,
   "id": "382a7640-433b-4567-a669-0b5df1437d2c",
   "metadata": {},
   "outputs": [],
   "source": [
    "df['IMDBGroup'] = pd.cut(df['IMDB_Rating'], bins=[7.6, 8.0, 8.5, 9.0, 9.3], right=False)\n",
    "mean_Votes_byIMDB = df.groupby('IMDBGroup')['No_of_Votes'].mean()\n",
    "mean_Votes_byIMDB"
   ]
  },
  {
   "cell_type": "code",
   "execution_count": null,
   "id": "6876a70d-0ea7-4045-b58e-d2b21d6b1ed8",
   "metadata": {},
   "outputs": [],
   "source": [
    "df['IMDBGroup'] = pd.cut(df['IMDB_Rating'], bins=[7.6, 8.0, 8.5, 9.0, 9.3], right=False)\n",
    "mean_Gross_byIMDB = df.groupby('IMDBGroup')['Gross'].mean()\n",
    "mean_Gross_byIMDB"
   ]
  },
  {
   "cell_type": "code",
   "execution_count": null,
   "id": "38d9f43e-0f09-46be-abd0-756e1eea6f57",
   "metadata": {},
   "outputs": [],
   "source": [
    "mean_IMDBRating_byGenre = df.groupby(df['Genre'].str.split(\",\", n=1).str[0])['IMDB_Rating'].mean()\n",
    "mean_IMDBRating_byGenre"
   ]
  },
  {
   "cell_type": "code",
   "execution_count": null,
   "id": "38b64f74-0148-408b-9a1f-fb7c4c5baa86",
   "metadata": {},
   "outputs": [],
   "source": [
    "mean_Runtime_byGenre = df.groupby(df['Genre'].str.split(\",\", n=1).str[0])['Runtime'].mean()\n",
    "mean_Runtime_byGenre"
   ]
  },
  {
   "cell_type": "code",
   "execution_count": null,
   "id": "b20c95e1-eb9d-4817-94bc-77d19fcaa460",
   "metadata": {},
   "outputs": [],
   "source": [
    "mean_Gross_byGenre = df.groupby(df['Genre'].str.split(\",\", n=1).str[0])['Gross'].mean()\n",
    "mean_Gross_byGenre"
   ]
  },
  {
   "cell_type": "code",
   "execution_count": null,
   "id": "08940e02-7cf0-4364-8126-563265bbc92f",
   "metadata": {},
   "outputs": [],
   "source": [
    "Film_per_anno = df['Released_Year'].value_counts()\n",
    "Film_per_anno"
   ]
  },
  {
   "cell_type": "code",
   "execution_count": null,
   "id": "37d0e8f8-679f-439d-ba42-4ea5cb21d664",
   "metadata": {},
   "outputs": [],
   "source": [
    "PG = df[df['Released_Year'] == 'PG']\n",
    "PG"
   ]
  },
  {
   "cell_type": "code",
   "execution_count": null,
   "id": "96978570-8784-47d9-855e-ff38d7533b0d",
   "metadata": {},
   "outputs": [],
   "source": [
    "df['Released_Year'] = df['Released_Year'].str.replace(\"PG\", \"1995\")\n",
    "df['Released_Year'] = df['Released_Year'].astype(int)"
   ]
  },
  {
   "cell_type": "code",
   "execution_count": null,
   "id": "76e351b6-c6de-4a68-b5fb-0883af2f2236",
   "metadata": {},
   "outputs": [],
   "source": [
    "df['Decenni'] = pd.cut(df['Released_Year'], bins=range(1900, 2030, 10), right=True)\n",
    "mean_IMDBR_byDecenni = df.groupby('Decenni')['IMDB_Rating'].mean()\n",
    "mean_IMDBR_byDecenni"
   ]
  },
  {
   "cell_type": "code",
   "execution_count": null,
   "id": "69957cfe-91f5-437a-b871-5f830792f1f0",
   "metadata": {},
   "outputs": [],
   "source": [
    "df.info()"
   ]
  },
  {
   "cell_type": "code",
   "execution_count": null,
   "id": "1601baa2-35d7-47f8-b4aa-787be050ab3c",
   "metadata": {},
   "outputs": [],
   "source": [
    "# Qual è il film con il rating più alto per ogni decennio?\n",
    "mean_IMDBRmax_byDecenni = df.groupby('Decenni', observed=True)['IMDB_Rating'].idxmax()\n",
    "mean_IMDBRmax_byDecenni"
   ]
  },
  {
   "cell_type": "code",
   "execution_count": null,
   "id": "a98da654-558a-4bb3-af06-c92491239dee",
   "metadata": {},
   "outputs": [],
   "source": [
    "migliori_dec = df[['Series_Title','Released_Year', 'Decenni']].iloc[[321,126,51,32,4,12,1,15,0,2,18]]\n",
    "migliori_dec"
   ]
  },
  {
   "cell_type": "code",
   "execution_count": null,
   "id": "f171bce1-b0d2-4cad-9b5a-22ff6afb3de9",
   "metadata": {},
   "outputs": [],
   "source": [
    "mean_IMDBR_byDirector = df.groupby('Director')['IMDB_Rating'].mean()\n",
    "mean_IMDBR_byDirector"
   ]
  },
  {
   "cell_type": "code",
   "execution_count": null,
   "id": "92fc61db-1e15-4e40-b42a-9c497d5ac6c9",
   "metadata": {},
   "outputs": [],
   "source": [
    "attori_presenti1 = df['Star1'].value_counts()\n",
    "attori_presenti2 = df['Star2'].value_counts()\n",
    "attori_presenti3 = df['Star3'].value_counts()\n",
    "attori_presenti4 = df['Star4'].value_counts()\n",
    "top_attori = pd.concat([attori_presenti1, attori_presenti2, attori_presenti3, attori_presenti4], axis=1).sum(axis=1).sort_values(ascending=False).astype(int)\n",
    "top_attori.head(10)"
   ]
  },
  {
   "cell_type": "code",
   "execution_count": null,
   "id": "fcef2aad-2572-405b-8caa-b705435d290e",
   "metadata": {},
   "outputs": [],
   "source": []
  },
  {
   "cell_type": "code",
   "execution_count": null,
   "id": "7bd39efe-b757-407d-bc6e-6ba6ea81d495",
   "metadata": {},
   "outputs": [],
   "source": [
    "df['MetaGroup'] = pd.cut(df['Meta_score'], bins=range(0,101,5), right=True)\n",
    "Metascore_pergruppi = df.groupby('MetaGroup')['Series_Title'].count()\n",
    "Metascore_pergruppi"
   ]
  },
  {
   "cell_type": "code",
   "execution_count": null,
   "id": "e4d1fab4-c1bd-48a6-874e-5c7d7af4c2fd",
   "metadata": {},
   "outputs": [],
   "source": [
    "top_MetaS = df[df ['Meta_score'] > 95] "
   ]
  },
  {
   "cell_type": "code",
   "execution_count": null,
   "id": "0d45cec0-c989-4b91-bbc2-7e8656620cf3",
   "metadata": {},
   "outputs": [],
   "source": [
    "attori_presenti_topfilm1 = top_MetaS['Star1'].value_counts()\n",
    "attori_presenti_topfilm2 = top_MetaS['Star2'].value_counts()\n",
    "attori_presenti_topfilm3 = top_MetaS['Star3'].value_counts()\n",
    "attori_presenti_topfilm4 = top_MetaS['Star4'].value_counts()\n",
    "attori_presenti_topfilm = pd.concat([attori_presenti_topfilm1, attori_presenti_topfilm2, attori_presenti_topfilm3, attori_presenti_topfilm4], axis=1).sum(axis=1).sort_values(ascending=False).astype(int)\n",
    "attori_presenti_topfilm.head(20)"
   ]
  },
  {
   "cell_type": "code",
   "execution_count": null,
   "id": "4534d07b-d09f-4ca9-a774-819d3e5a8ba5",
   "metadata": {},
   "outputs": [],
   "source": [
    "top_IMDBRAT = df [df['IMDB_Rating'] > 9]"
   ]
  },
  {
   "cell_type": "code",
   "execution_count": null,
   "id": "db17a88d-bc5d-47ec-a789-fcbadfb6763e",
   "metadata": {},
   "outputs": [],
   "source": [
    "attori_presenti_topfilm1 = top_IMDBRAT['Star1'].value_counts()\n",
    "attori_presenti_topfilm2 = top_IMDBRAT['Star2'].value_counts()\n",
    "attori_presenti_topfilm3 = top_IMDBRAT['Star3'].value_counts()\n",
    "attori_presenti_topfilm4 = top_IMDBRAT['Star4'].value_counts()\n",
    "attori_presenti_topfilm = pd.concat([attori_presenti_topfilm1, attori_presenti_topfilm2, attori_presenti_topfilm3, attori_presenti_topfilm4], axis=1).sum(axis=1).sort_values(ascending=False).astype(int)\n",
    "attori_presenti_topfilm.head(20)"
   ]
  }
 ],
 "metadata": {
  "kernelspec": {
   "display_name": "Python [conda env:base] *",
   "language": "python",
   "name": "conda-base-py"
  },
  "language_info": {
   "codemirror_mode": {
    "name": "ipython",
    "version": 3
   },
   "file_extension": ".py",
   "mimetype": "text/x-python",
   "name": "python",
   "nbconvert_exporter": "python",
   "pygments_lexer": "ipython3",
   "version": "3.12.7"
  }
 },
 "nbformat": 4,
 "nbformat_minor": 5
}
